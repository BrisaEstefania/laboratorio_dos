{
  "nbformat": 4,
  "nbformat_minor": 0,
  "metadata": {
    "colab": {
      "provenance": [],
      "collapsed_sections": [],
      "authorship_tag": "ABX9TyOKSJMHZiaGGrhMCf1GJhL2",
      "include_colab_link": true
    },
    "kernelspec": {
      "name": "python3",
      "display_name": "Python 3"
    },
    "language_info": {
      "name": "python"
    }
  },
  "cells": [
    {
      "cell_type": "markdown",
      "metadata": {
        "id": "view-in-github",
        "colab_type": "text"
      },
      "source": [
        "<a href=\"https://colab.research.google.com/github/BrisaEstefania/laboratorio_dos/blob/main/Untitled6.ipynb\" target=\"_parent\"><img src=\"https://colab.research.google.com/assets/colab-badge.svg\" alt=\"Open In Colab\"/></a>"
      ]
    },
    {
      "cell_type": "markdown",
      "source": [
        "\n",
        "\n",
        "1.   Importar librerias\n",
        "\n"
      ],
      "metadata": {
        "id": "1CcOZx4ERZ_j"
      }
    },
    {
      "cell_type": "code",
      "execution_count": 51,
      "metadata": {
        "id": "JB9Ez_092mKn"
      },
      "outputs": [],
      "source": [
        "from pydoc import describe\n",
        "import time\n",
        "import numpy as np\n",
        "import pandas as pd\n",
        "import random\n",
        "import re\n",
        "import scipy\n",
        "\n",
        "from scipy import stats\n",
        "from sklearn.model_selection import train_test_split\n",
        "from sklearn.utils import resample\n",
        "from sklearn.linear_model import LinearRegression\n",
        "\n",
        "from sklearn.metrics import accuracy_score\n",
        "from sklearn.metrics import precision_score\n",
        "from sklearn.metrics import recall_score\n",
        "from sklearn.metrics import f1_score\n",
        "\n",
        "import matplotlib.pyplot as plt\n",
        "import seaborn as sns"
      ]
    },
    {
      "cell_type": "code",
      "source": [
        "!pip install transformers\n",
        "from transformers import pipeline\n"
      ],
      "metadata": {
        "colab": {
          "base_uri": "https://localhost:8080/"
        },
        "id": "adRI_yzxC0Pr",
        "outputId": "2f9b0598-431a-442d-ed74-876df3b39603"
      },
      "execution_count": 52,
      "outputs": [
        {
          "output_type": "stream",
          "name": "stdout",
          "text": [
            "Looking in indexes: https://pypi.org/simple, https://us-python.pkg.dev/colab-wheels/public/simple/\n",
            "Requirement already satisfied: transformers in /usr/local/lib/python3.7/dist-packages (4.22.0)\n",
            "Requirement already satisfied: requests in /usr/local/lib/python3.7/dist-packages (from transformers) (2.23.0)\n",
            "Requirement already satisfied: importlib-metadata in /usr/local/lib/python3.7/dist-packages (from transformers) (4.12.0)\n",
            "Requirement already satisfied: packaging>=20.0 in /usr/local/lib/python3.7/dist-packages (from transformers) (21.3)\n",
            "Requirement already satisfied: numpy>=1.17 in /usr/local/lib/python3.7/dist-packages (from transformers) (1.21.6)\n",
            "Requirement already satisfied: regex!=2019.12.17 in /usr/local/lib/python3.7/dist-packages (from transformers) (2022.6.2)\n",
            "Requirement already satisfied: tqdm>=4.27 in /usr/local/lib/python3.7/dist-packages (from transformers) (4.64.1)\n",
            "Requirement already satisfied: huggingface-hub<1.0,>=0.9.0 in /usr/local/lib/python3.7/dist-packages (from transformers) (0.9.1)\n",
            "Requirement already satisfied: pyyaml>=5.1 in /usr/local/lib/python3.7/dist-packages (from transformers) (6.0)\n",
            "Requirement already satisfied: tokenizers!=0.11.3,<0.13,>=0.11.1 in /usr/local/lib/python3.7/dist-packages (from transformers) (0.12.1)\n",
            "Requirement already satisfied: filelock in /usr/local/lib/python3.7/dist-packages (from transformers) (3.8.0)\n",
            "Requirement already satisfied: typing-extensions>=3.7.4.3 in /usr/local/lib/python3.7/dist-packages (from huggingface-hub<1.0,>=0.9.0->transformers) (4.1.1)\n",
            "Requirement already satisfied: pyparsing!=3.0.5,>=2.0.2 in /usr/local/lib/python3.7/dist-packages (from packaging>=20.0->transformers) (3.0.9)\n",
            "Requirement already satisfied: zipp>=0.5 in /usr/local/lib/python3.7/dist-packages (from importlib-metadata->transformers) (3.8.1)\n",
            "Requirement already satisfied: certifi>=2017.4.17 in /usr/local/lib/python3.7/dist-packages (from requests->transformers) (2022.6.15)\n",
            "Requirement already satisfied: idna<3,>=2.5 in /usr/local/lib/python3.7/dist-packages (from requests->transformers) (2.10)\n",
            "Requirement already satisfied: urllib3!=1.25.0,!=1.25.1,<1.26,>=1.21.1 in /usr/local/lib/python3.7/dist-packages (from requests->transformers) (1.24.3)\n",
            "Requirement already satisfied: chardet<4,>=3.0.2 in /usr/local/lib/python3.7/dist-packages (from requests->transformers) (3.0.4)\n"
          ]
        }
      ]
    },
    {
      "cell_type": "markdown",
      "source": [
        "2.   Importar base de datos"
      ],
      "metadata": {
        "id": "ff2BrMIyRgYO"
      }
    },
    {
      "cell_type": "code",
      "source": [
        "datos_df = pd.read_csv('/twitter_score.csv', sep=';', encoding='latin-1')"
      ],
      "metadata": {
        "id": "fxD_X8Np7G8Q"
      },
      "execution_count": 53,
      "outputs": []
    },
    {
      "cell_type": "markdown",
      "source": [
        "3. Definicion de variables a utilizar"
      ],
      "metadata": {
        "id": "YHlC9QW5RuCj"
      }
    },
    {
      "cell_type": "code",
      "source": [
        "datos_df = datos_df[['author_id', 'text', 'score_sentiment']]\n",
        "print(datos_df)"
      ],
      "metadata": {
        "colab": {
          "base_uri": "https://localhost:8080/"
        },
        "id": "OscuzL_X--ns",
        "outputId": "8889f29d-d04c-4466-d8da-044f13a486bd"
      },
      "execution_count": 54,
      "outputs": [
        {
          "output_type": "stream",
          "name": "stdout",
          "text": [
            "      author_id                                               text  \\\n",
            "0     118865690  I'm at Asociación Chilena de Seguridad (ACHS) ...   \n",
            "1     118865690  I'm at Asociación Chilena de Seguridad (ACHS) ...   \n",
            "2     118865690  I'm at Asociación Chilena de Seguridad (ACHS) ...   \n",
            "3     118865690  I'm at Asociación Chilena de Seguridad (ACHS) ...   \n",
            "4     118865690  I'm at Asociación Chilena de Seguridad (ACHS) ...   \n",
            "...         ...                                                ...   \n",
            "1443  222161265  Y asi es como ponen un cartel de @chilecumple ...   \n",
            "1444   98182090  Tips para una conducción segura #prevención #s...   \n",
            "1445  103731402  @PrevencionACHS Estoy listo para comenzar a ev...   \n",
            "1446  517657394  @PrevencionACHS en el día de la seguridad en I...   \n",
            "1447  365033343  En capacitación de websphere portal en @Preven...   \n",
            "\n",
            "      score_sentiment  \n",
            "0                   0  \n",
            "1                   0  \n",
            "2                   0  \n",
            "3                   0  \n",
            "4                   0  \n",
            "...               ...  \n",
            "1443                2  \n",
            "1444                2  \n",
            "1445                0  \n",
            "1446                2  \n",
            "1447                0  \n",
            "\n",
            "[1448 rows x 3 columns]\n"
          ]
        }
      ]
    },
    {
      "cell_type": "markdown",
      "source": [
        "4.- Asignación de labels"
      ],
      "metadata": {
        "id": "L7czn_z0R00Z"
      }
    },
    {
      "cell_type": "code",
      "source": [
        "label = []\n",
        "for i in datos_df.score_sentiment:\n",
        "    if i < 1:\n",
        "        label.append(1) #(+)\n",
        "    else:\n",
        "        label.append(0) #(-)\n",
        "datos_df[\"Label\"] = label\n",
        "datos_df\n"
      ],
      "metadata": {
        "colab": {
          "base_uri": "https://localhost:8080/",
          "height": 424
        },
        "id": "4GW2xF2mElyC",
        "outputId": "516a36fb-eb3b-4cae-f406-a9a69ef8d6f7"
      },
      "execution_count": 55,
      "outputs": [
        {
          "output_type": "execute_result",
          "data": {
            "text/plain": [
              "      author_id                                               text  \\\n",
              "0     118865690  I'm at Asociación Chilena de Seguridad (ACHS) ...   \n",
              "1     118865690  I'm at Asociación Chilena de Seguridad (ACHS) ...   \n",
              "2     118865690  I'm at Asociación Chilena de Seguridad (ACHS) ...   \n",
              "3     118865690  I'm at Asociación Chilena de Seguridad (ACHS) ...   \n",
              "4     118865690  I'm at Asociación Chilena de Seguridad (ACHS) ...   \n",
              "...         ...                                                ...   \n",
              "1443  222161265  Y asi es como ponen un cartel de @chilecumple ...   \n",
              "1444   98182090  Tips para una conducción segura #prevención #s...   \n",
              "1445  103731402  @PrevencionACHS Estoy listo para comenzar a ev...   \n",
              "1446  517657394  @PrevencionACHS en el día de la seguridad en I...   \n",
              "1447  365033343  En capacitación de websphere portal en @Preven...   \n",
              "\n",
              "      score_sentiment  Label  \n",
              "0                   0      1  \n",
              "1                   0      1  \n",
              "2                   0      1  \n",
              "3                   0      1  \n",
              "4                   0      1  \n",
              "...               ...    ...  \n",
              "1443                2      0  \n",
              "1444                2      0  \n",
              "1445                0      1  \n",
              "1446                2      0  \n",
              "1447                0      1  \n",
              "\n",
              "[1448 rows x 4 columns]"
            ],
            "text/html": [
              "\n",
              "  <div id=\"df-fa69cfb0-6516-4e38-9551-b9e69e216309\">\n",
              "    <div class=\"colab-df-container\">\n",
              "      <div>\n",
              "<style scoped>\n",
              "    .dataframe tbody tr th:only-of-type {\n",
              "        vertical-align: middle;\n",
              "    }\n",
              "\n",
              "    .dataframe tbody tr th {\n",
              "        vertical-align: top;\n",
              "    }\n",
              "\n",
              "    .dataframe thead th {\n",
              "        text-align: right;\n",
              "    }\n",
              "</style>\n",
              "<table border=\"1\" class=\"dataframe\">\n",
              "  <thead>\n",
              "    <tr style=\"text-align: right;\">\n",
              "      <th></th>\n",
              "      <th>author_id</th>\n",
              "      <th>text</th>\n",
              "      <th>score_sentiment</th>\n",
              "      <th>Label</th>\n",
              "    </tr>\n",
              "  </thead>\n",
              "  <tbody>\n",
              "    <tr>\n",
              "      <th>0</th>\n",
              "      <td>118865690</td>\n",
              "      <td>I'm at Asociación Chilena de Seguridad (ACHS) ...</td>\n",
              "      <td>0</td>\n",
              "      <td>1</td>\n",
              "    </tr>\n",
              "    <tr>\n",
              "      <th>1</th>\n",
              "      <td>118865690</td>\n",
              "      <td>I'm at Asociación Chilena de Seguridad (ACHS) ...</td>\n",
              "      <td>0</td>\n",
              "      <td>1</td>\n",
              "    </tr>\n",
              "    <tr>\n",
              "      <th>2</th>\n",
              "      <td>118865690</td>\n",
              "      <td>I'm at Asociación Chilena de Seguridad (ACHS) ...</td>\n",
              "      <td>0</td>\n",
              "      <td>1</td>\n",
              "    </tr>\n",
              "    <tr>\n",
              "      <th>3</th>\n",
              "      <td>118865690</td>\n",
              "      <td>I'm at Asociación Chilena de Seguridad (ACHS) ...</td>\n",
              "      <td>0</td>\n",
              "      <td>1</td>\n",
              "    </tr>\n",
              "    <tr>\n",
              "      <th>4</th>\n",
              "      <td>118865690</td>\n",
              "      <td>I'm at Asociación Chilena de Seguridad (ACHS) ...</td>\n",
              "      <td>0</td>\n",
              "      <td>1</td>\n",
              "    </tr>\n",
              "    <tr>\n",
              "      <th>...</th>\n",
              "      <td>...</td>\n",
              "      <td>...</td>\n",
              "      <td>...</td>\n",
              "      <td>...</td>\n",
              "    </tr>\n",
              "    <tr>\n",
              "      <th>1443</th>\n",
              "      <td>222161265</td>\n",
              "      <td>Y asi es como ponen un cartel de @chilecumple ...</td>\n",
              "      <td>2</td>\n",
              "      <td>0</td>\n",
              "    </tr>\n",
              "    <tr>\n",
              "      <th>1444</th>\n",
              "      <td>98182090</td>\n",
              "      <td>Tips para una conducción segura #prevención #s...</td>\n",
              "      <td>2</td>\n",
              "      <td>0</td>\n",
              "    </tr>\n",
              "    <tr>\n",
              "      <th>1445</th>\n",
              "      <td>103731402</td>\n",
              "      <td>@PrevencionACHS Estoy listo para comenzar a ev...</td>\n",
              "      <td>0</td>\n",
              "      <td>1</td>\n",
              "    </tr>\n",
              "    <tr>\n",
              "      <th>1446</th>\n",
              "      <td>517657394</td>\n",
              "      <td>@PrevencionACHS en el día de la seguridad en I...</td>\n",
              "      <td>2</td>\n",
              "      <td>0</td>\n",
              "    </tr>\n",
              "    <tr>\n",
              "      <th>1447</th>\n",
              "      <td>365033343</td>\n",
              "      <td>En capacitación de websphere portal en @Preven...</td>\n",
              "      <td>0</td>\n",
              "      <td>1</td>\n",
              "    </tr>\n",
              "  </tbody>\n",
              "</table>\n",
              "<p>1448 rows × 4 columns</p>\n",
              "</div>\n",
              "      <button class=\"colab-df-convert\" onclick=\"convertToInteractive('df-fa69cfb0-6516-4e38-9551-b9e69e216309')\"\n",
              "              title=\"Convert this dataframe to an interactive table.\"\n",
              "              style=\"display:none;\">\n",
              "        \n",
              "  <svg xmlns=\"http://www.w3.org/2000/svg\" height=\"24px\"viewBox=\"0 0 24 24\"\n",
              "       width=\"24px\">\n",
              "    <path d=\"M0 0h24v24H0V0z\" fill=\"none\"/>\n",
              "    <path d=\"M18.56 5.44l.94 2.06.94-2.06 2.06-.94-2.06-.94-.94-2.06-.94 2.06-2.06.94zm-11 1L8.5 8.5l.94-2.06 2.06-.94-2.06-.94L8.5 2.5l-.94 2.06-2.06.94zm10 10l.94 2.06.94-2.06 2.06-.94-2.06-.94-.94-2.06-.94 2.06-2.06.94z\"/><path d=\"M17.41 7.96l-1.37-1.37c-.4-.4-.92-.59-1.43-.59-.52 0-1.04.2-1.43.59L10.3 9.45l-7.72 7.72c-.78.78-.78 2.05 0 2.83L4 21.41c.39.39.9.59 1.41.59.51 0 1.02-.2 1.41-.59l7.78-7.78 2.81-2.81c.8-.78.8-2.07 0-2.86zM5.41 20L4 18.59l7.72-7.72 1.47 1.35L5.41 20z\"/>\n",
              "  </svg>\n",
              "      </button>\n",
              "      \n",
              "  <style>\n",
              "    .colab-df-container {\n",
              "      display:flex;\n",
              "      flex-wrap:wrap;\n",
              "      gap: 12px;\n",
              "    }\n",
              "\n",
              "    .colab-df-convert {\n",
              "      background-color: #E8F0FE;\n",
              "      border: none;\n",
              "      border-radius: 50%;\n",
              "      cursor: pointer;\n",
              "      display: none;\n",
              "      fill: #1967D2;\n",
              "      height: 32px;\n",
              "      padding: 0 0 0 0;\n",
              "      width: 32px;\n",
              "    }\n",
              "\n",
              "    .colab-df-convert:hover {\n",
              "      background-color: #E2EBFA;\n",
              "      box-shadow: 0px 1px 2px rgba(60, 64, 67, 0.3), 0px 1px 3px 1px rgba(60, 64, 67, 0.15);\n",
              "      fill: #174EA6;\n",
              "    }\n",
              "\n",
              "    [theme=dark] .colab-df-convert {\n",
              "      background-color: #3B4455;\n",
              "      fill: #D2E3FC;\n",
              "    }\n",
              "\n",
              "    [theme=dark] .colab-df-convert:hover {\n",
              "      background-color: #434B5C;\n",
              "      box-shadow: 0px 1px 3px 1px rgba(0, 0, 0, 0.15);\n",
              "      filter: drop-shadow(0px 1px 2px rgba(0, 0, 0, 0.3));\n",
              "      fill: #FFFFFF;\n",
              "    }\n",
              "  </style>\n",
              "\n",
              "      <script>\n",
              "        const buttonEl =\n",
              "          document.querySelector('#df-fa69cfb0-6516-4e38-9551-b9e69e216309 button.colab-df-convert');\n",
              "        buttonEl.style.display =\n",
              "          google.colab.kernel.accessAllowed ? 'block' : 'none';\n",
              "\n",
              "        async function convertToInteractive(key) {\n",
              "          const element = document.querySelector('#df-fa69cfb0-6516-4e38-9551-b9e69e216309');\n",
              "          const dataTable =\n",
              "            await google.colab.kernel.invokeFunction('convertToInteractive',\n",
              "                                                     [key], {});\n",
              "          if (!dataTable) return;\n",
              "\n",
              "          const docLinkHtml = 'Like what you see? Visit the ' +\n",
              "            '<a target=\"_blank\" href=https://colab.research.google.com/notebooks/data_table.ipynb>data table notebook</a>'\n",
              "            + ' to learn more about interactive tables.';\n",
              "          element.innerHTML = '';\n",
              "          dataTable['output_type'] = 'display_data';\n",
              "          await google.colab.output.renderOutput(dataTable, element);\n",
              "          const docLink = document.createElement('div');\n",
              "          docLink.innerHTML = docLinkHtml;\n",
              "          element.appendChild(docLink);\n",
              "        }\n",
              "      </script>\n",
              "    </div>\n",
              "  </div>\n",
              "  "
            ]
          },
          "metadata": {},
          "execution_count": 55
        }
      ]
    },
    {
      "cell_type": "markdown",
      "source": [
        "5. Se divide la base de dato entre data test y data train, se utiliza un 70% para train y un 30% para test "
      ],
      "metadata": {
        "id": "rbq7RoBtR-m2"
      }
    },
    {
      "cell_type": "code",
      "source": [
        "x = datos_df['text']\n",
        "y = datos_df['Label']\n",
        "\n",
        "X_train, X_test, y_train, y_test = train_test_split(x, y, test_size=0.3, stratify=y, random_state = 124)\n",
        "\n",
        "print(\"Train data:\", X_train.shape, y_train.shape)\n",
        "print(\"Test data:\", X_test.shape, y_test.shape)"
      ],
      "metadata": {
        "colab": {
          "base_uri": "https://localhost:8080/"
        },
        "id": "DLqihgZQLiN8",
        "outputId": "bb6d07ff-1206-4a45-cd86-235bd12982cd"
      },
      "execution_count": 60,
      "outputs": [
        {
          "output_type": "stream",
          "name": "stdout",
          "text": [
            "Train data: (1013,) (1013,)\n",
            "Test data: (435,) (435,)\n"
          ]
        }
      ]
    },
    {
      "cell_type": "code",
      "source": [
        "y.value_counts()"
      ],
      "metadata": {
        "colab": {
          "base_uri": "https://localhost:8080/"
        },
        "id": "VDDZwH_qNgFi",
        "outputId": "441b3324-f1e1-43b4-e2ff-12a7738968dc"
      },
      "execution_count": 61,
      "outputs": [
        {
          "output_type": "execute_result",
          "data": {
            "text/plain": [
              "1    1005\n",
              "0     443\n",
              "Name: Label, dtype: int64"
            ]
          },
          "metadata": {},
          "execution_count": 61
        }
      ]
    },
    {
      "cell_type": "markdown",
      "source": [
        "6. Balanceo de observaciones asignadas a 0 y 1 "
      ],
      "metadata": {
        "id": "Ql-DKLTySrKL"
      }
    },
    {
      "cell_type": "code",
      "source": [
        "train = pd.DataFrame({'text':X_train, 'Label':y_train})\n",
        "\n",
        "ones = len(train.loc[train['Label'] == 1])\n",
        "zeros = len(train.loc[train['Label'] == 0])\n",
        "if ones >= zeros:\n",
        "  majority = 1\n",
        "  minority = 0\n",
        "else:\n",
        "  majority = 0\n",
        "  minority = 1\n",
        "\n",
        "train_majority = train[train.Label==majority]\n",
        "train_minority = train[train.Label==minority]\n",
        "\n",
        "train_minority_upsampled = resample(train_minority,\n",
        "                                    replace=True,\n",
        "                                    n_samples=len(train_majority),\n",
        "                                    random_state=42)\n",
        "\n",
        "train = pd.concat([train_majority, train_minority_upsampled])\n",
        "X_train = train['text']\n",
        "y_train = train['Label']\n",
        "print(\"Train data:\", X_train.shape, y_train.shape)\n",
        "print(\"Test data:\", X_train.shape, y_train.shape)"
      ],
      "metadata": {
        "colab": {
          "base_uri": "https://localhost:8080/"
        },
        "id": "Zk--O8EsN6H6",
        "outputId": "5eaf8f07-930d-472e-dc3b-de6209dc0e04"
      },
      "execution_count": 72,
      "outputs": [
        {
          "output_type": "stream",
          "name": "stdout",
          "text": [
            "Train data: (1406,) (1406,)\n",
            "Test data: (1406,) (1406,)\n"
          ]
        }
      ]
    },
    {
      "cell_type": "code",
      "source": [
        "y_train.value_counts()"
      ],
      "metadata": {
        "colab": {
          "base_uri": "https://localhost:8080/"
        },
        "id": "w0eVK951Qy-Z",
        "outputId": "da74e394-e8be-4423-fa13-0edaedae9026"
      },
      "execution_count": 75,
      "outputs": [
        {
          "output_type": "execute_result",
          "data": {
            "text/plain": [
              "1    703\n",
              "0    703\n",
              "Name: Label, dtype: int64"
            ]
          },
          "metadata": {},
          "execution_count": 75
        }
      ]
    },
    {
      "cell_type": "markdown",
      "source": [
        "7. Modelo"
      ],
      "metadata": {
        "id": "QDNDVNOMS624"
      }
    },
    {
      "cell_type": "code",
      "source": [
        "model_pipline = 'distilbert-base-uncased-finetuned-sst-2-english'\n",
        "modelo_sentiment = pipeline('sentiment-analysis', model_pipline)"
      ],
      "metadata": {
        "id": "3o6nREV3S-JE"
      },
      "execution_count": 78,
      "outputs": []
    },
    {
      "cell_type": "markdown",
      "source": [
        "*   Restringir modelo\n"
      ],
      "metadata": {
        "id": "Jta2X27NV_gM"
      }
    },
    {
      "cell_type": "code",
      "source": [
        "max_length = 512\n",
        "Label_pred = []\n",
        "score_pred = []\n",
        "for i in X_test:\n",
        "    results = modelo_sentiment(i[0:max_length])\n",
        "    Label_pred.append(results[0]['label'])\n",
        "    score_pred.append(results[0]['score'])"
      ],
      "metadata": {
        "id": "Y3DuHfk2UrMq"
      },
      "execution_count": 82,
      "outputs": []
    },
    {
      "cell_type": "markdown",
      "source": [
        "* Verificación del modelo "
      ],
      "metadata": {
        "id": "W0U7W6myW5jP"
      }
    },
    {
      "cell_type": "code",
      "source": [
        "modelo_sentiment('Feliz')"
      ],
      "metadata": {
        "colab": {
          "base_uri": "https://localhost:8080/"
        },
        "id": "-hyYkGFZWpaz",
        "outputId": "49cea6d9-b61a-42a5-ba11-72d1b7323794"
      },
      "execution_count": 88,
      "outputs": [
        {
          "output_type": "execute_result",
          "data": {
            "text/plain": [
              "[{'label': 'POSITIVE', 'score': 0.9985175728797913}]"
            ]
          },
          "metadata": {},
          "execution_count": 88
        }
      ]
    },
    {
      "cell_type": "code",
      "source": [
        "modelo_sentiment('mal')"
      ],
      "metadata": {
        "colab": {
          "base_uri": "https://localhost:8080/"
        },
        "id": "u2uhMMAAW2gC",
        "outputId": "66d5cc4b-1b37-4ed9-e21b-32365944be55"
      },
      "execution_count": 89,
      "outputs": [
        {
          "output_type": "execute_result",
          "data": {
            "text/plain": [
              "[{'label': 'NEGATIVE', 'score': 0.9996137022972107}]"
            ]
          },
          "metadata": {},
          "execution_count": 89
        }
      ]
    },
    {
      "cell_type": "markdown",
      "source": [
        "* Cambio de formato de numero a texto "
      ],
      "metadata": {
        "id": "04wjuTpTWFhQ"
      }
    },
    {
      "cell_type": "code",
      "source": [
        "y_pred = [1 if i=='Positivo' else 0 for i in Label_pred]\n"
      ],
      "metadata": {
        "id": "61arzUmAWOT9"
      },
      "execution_count": 85,
      "outputs": []
    },
    {
      "cell_type": "markdown",
      "source": [
        "8. Resultados"
      ],
      "metadata": {
        "id": "6zNO9-GfXE27"
      }
    },
    {
      "cell_type": "code",
      "source": [
        "def metrics_report(y_test, y_pred):\n",
        "  precision = precision_score(y_test, y_pred)\n",
        "  recall = recall_score(y_test, y_pred)\n",
        "  f1 = f1_score(y_test, y_pred)\n",
        "  acc = accuracy_score(y_test, y_pred)\n",
        "\n",
        "  return precision, recall, f1, acc"
      ],
      "metadata": {
        "id": "Nrm1KwJPY3Rf"
      },
      "execution_count": 93,
      "outputs": []
    },
    {
      "cell_type": "code",
      "source": [
        "y = y_test.tolist()\n",
        "metrics1 = metrics_report(y, y_pred)\n",
        "p1 = metrics1[0]\n",
        "r1 = metrics1[1]\n",
        "f1 = metrics1[2]\n",
        "ac1 = metrics1[3]"
      ],
      "metadata": {
        "colab": {
          "base_uri": "https://localhost:8080/"
        },
        "id": "RL3tdCnxYJrK",
        "outputId": "03941bf0-5040-48ec-ad98-3fad096e60ec"
      },
      "execution_count": 94,
      "outputs": [
        {
          "output_type": "stream",
          "name": "stderr",
          "text": [
            "/usr/local/lib/python3.7/dist-packages/sklearn/metrics/_classification.py:1318: UndefinedMetricWarning: Precision is ill-defined and being set to 0.0 due to no predicted samples. Use `zero_division` parameter to control this behavior.\n",
            "  _warn_prf(average, modifier, msg_start, len(result))\n"
          ]
        }
      ]
    },
    {
      "cell_type": "code",
      "source": [
        "modelo_1 = model_pipline.split('-')[0]\n",
        "d = {'Model':[modelo_1], 'Precision':[p1], 'Recall':[r1], 'F1':[f1], 'Accuracy':[ac1]}\n",
        "Bert1_results = pd.DataFrame(d)\n",
        "Bert1_results"
      ],
      "metadata": {
        "colab": {
          "base_uri": "https://localhost:8080/",
          "height": 81
        },
        "id": "ikvRyOPAXGq1",
        "outputId": "6176d9c8-0b1f-462e-adca-d0d88c3e5306"
      },
      "execution_count": 97,
      "outputs": [
        {
          "output_type": "execute_result",
          "data": {
            "text/plain": [
              "        Model  Precision  Recall   F1  Accuracy\n",
              "0  distilbert        0.0     0.0  0.0  0.305747"
            ],
            "text/html": [
              "\n",
              "  <div id=\"df-5868cb03-db09-4e72-8608-c6088484fa36\">\n",
              "    <div class=\"colab-df-container\">\n",
              "      <div>\n",
              "<style scoped>\n",
              "    .dataframe tbody tr th:only-of-type {\n",
              "        vertical-align: middle;\n",
              "    }\n",
              "\n",
              "    .dataframe tbody tr th {\n",
              "        vertical-align: top;\n",
              "    }\n",
              "\n",
              "    .dataframe thead th {\n",
              "        text-align: right;\n",
              "    }\n",
              "</style>\n",
              "<table border=\"1\" class=\"dataframe\">\n",
              "  <thead>\n",
              "    <tr style=\"text-align: right;\">\n",
              "      <th></th>\n",
              "      <th>Model</th>\n",
              "      <th>Precision</th>\n",
              "      <th>Recall</th>\n",
              "      <th>F1</th>\n",
              "      <th>Accuracy</th>\n",
              "    </tr>\n",
              "  </thead>\n",
              "  <tbody>\n",
              "    <tr>\n",
              "      <th>0</th>\n",
              "      <td>distilbert</td>\n",
              "      <td>0.0</td>\n",
              "      <td>0.0</td>\n",
              "      <td>0.0</td>\n",
              "      <td>0.305747</td>\n",
              "    </tr>\n",
              "  </tbody>\n",
              "</table>\n",
              "</div>\n",
              "      <button class=\"colab-df-convert\" onclick=\"convertToInteractive('df-5868cb03-db09-4e72-8608-c6088484fa36')\"\n",
              "              title=\"Convert this dataframe to an interactive table.\"\n",
              "              style=\"display:none;\">\n",
              "        \n",
              "  <svg xmlns=\"http://www.w3.org/2000/svg\" height=\"24px\"viewBox=\"0 0 24 24\"\n",
              "       width=\"24px\">\n",
              "    <path d=\"M0 0h24v24H0V0z\" fill=\"none\"/>\n",
              "    <path d=\"M18.56 5.44l.94 2.06.94-2.06 2.06-.94-2.06-.94-.94-2.06-.94 2.06-2.06.94zm-11 1L8.5 8.5l.94-2.06 2.06-.94-2.06-.94L8.5 2.5l-.94 2.06-2.06.94zm10 10l.94 2.06.94-2.06 2.06-.94-2.06-.94-.94-2.06-.94 2.06-2.06.94z\"/><path d=\"M17.41 7.96l-1.37-1.37c-.4-.4-.92-.59-1.43-.59-.52 0-1.04.2-1.43.59L10.3 9.45l-7.72 7.72c-.78.78-.78 2.05 0 2.83L4 21.41c.39.39.9.59 1.41.59.51 0 1.02-.2 1.41-.59l7.78-7.78 2.81-2.81c.8-.78.8-2.07 0-2.86zM5.41 20L4 18.59l7.72-7.72 1.47 1.35L5.41 20z\"/>\n",
              "  </svg>\n",
              "      </button>\n",
              "      \n",
              "  <style>\n",
              "    .colab-df-container {\n",
              "      display:flex;\n",
              "      flex-wrap:wrap;\n",
              "      gap: 12px;\n",
              "    }\n",
              "\n",
              "    .colab-df-convert {\n",
              "      background-color: #E8F0FE;\n",
              "      border: none;\n",
              "      border-radius: 50%;\n",
              "      cursor: pointer;\n",
              "      display: none;\n",
              "      fill: #1967D2;\n",
              "      height: 32px;\n",
              "      padding: 0 0 0 0;\n",
              "      width: 32px;\n",
              "    }\n",
              "\n",
              "    .colab-df-convert:hover {\n",
              "      background-color: #E2EBFA;\n",
              "      box-shadow: 0px 1px 2px rgba(60, 64, 67, 0.3), 0px 1px 3px 1px rgba(60, 64, 67, 0.15);\n",
              "      fill: #174EA6;\n",
              "    }\n",
              "\n",
              "    [theme=dark] .colab-df-convert {\n",
              "      background-color: #3B4455;\n",
              "      fill: #D2E3FC;\n",
              "    }\n",
              "\n",
              "    [theme=dark] .colab-df-convert:hover {\n",
              "      background-color: #434B5C;\n",
              "      box-shadow: 0px 1px 3px 1px rgba(0, 0, 0, 0.15);\n",
              "      filter: drop-shadow(0px 1px 2px rgba(0, 0, 0, 0.3));\n",
              "      fill: #FFFFFF;\n",
              "    }\n",
              "  </style>\n",
              "\n",
              "      <script>\n",
              "        const buttonEl =\n",
              "          document.querySelector('#df-5868cb03-db09-4e72-8608-c6088484fa36 button.colab-df-convert');\n",
              "        buttonEl.style.display =\n",
              "          google.colab.kernel.accessAllowed ? 'block' : 'none';\n",
              "\n",
              "        async function convertToInteractive(key) {\n",
              "          const element = document.querySelector('#df-5868cb03-db09-4e72-8608-c6088484fa36');\n",
              "          const dataTable =\n",
              "            await google.colab.kernel.invokeFunction('convertToInteractive',\n",
              "                                                     [key], {});\n",
              "          if (!dataTable) return;\n",
              "\n",
              "          const docLinkHtml = 'Like what you see? Visit the ' +\n",
              "            '<a target=\"_blank\" href=https://colab.research.google.com/notebooks/data_table.ipynb>data table notebook</a>'\n",
              "            + ' to learn more about interactive tables.';\n",
              "          element.innerHTML = '';\n",
              "          dataTable['output_type'] = 'display_data';\n",
              "          await google.colab.output.renderOutput(dataTable, element);\n",
              "          const docLink = document.createElement('div');\n",
              "          docLink.innerHTML = docLinkHtml;\n",
              "          element.appendChild(docLink);\n",
              "        }\n",
              "      </script>\n",
              "    </div>\n",
              "  </div>\n",
              "  "
            ]
          },
          "metadata": {},
          "execution_count": 97
        }
      ]
    }
  ]
}